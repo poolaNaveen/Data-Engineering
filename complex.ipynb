{
  "nbformat": 4,
  "nbformat_minor": 0,
  "metadata": {
    "colab": {
      "provenance": [],
      "authorship_tag": "ABX9TyM/EW6/dJRx6xKhK10AH8nP",
      "include_colab_link": true
    },
    "kernelspec": {
      "name": "python3",
      "display_name": "Python 3"
    },
    "language_info": {
      "name": "python"
    }
  },
  "cells": [
    {
      "cell_type": "markdown",
      "metadata": {
        "id": "view-in-github",
        "colab_type": "text"
      },
      "source": [
        "<a href=\"https://colab.research.google.com/github/poolaNaveen/Data-Engineering/blob/main/complex.ipynb\" target=\"_parent\"><img src=\"https://colab.research.google.com/assets/colab-badge.svg\" alt=\"Open In Colab\"/></a>"
      ]
    },
    {
      "cell_type": "code",
      "execution_count": 3,
      "metadata": {
        "colab": {
          "base_uri": "https://localhost:8080/"
        },
        "id": "Kacwk2aLFQ9d",
        "outputId": "25f454b2-3f83-4ad0-a7d0-12b3339455ba"
      },
      "outputs": [
        {
          "output_type": "stream",
          "name": "stdout",
          "text": [
            "(5+4j)\n"
          ]
        }
      ],
      "source": [
        "#Create complex number 5 + 4j\n",
        "x = 5\n",
        "y = 4j\n",
        "print(complex(x+y))"
      ]
    },
    {
      "cell_type": "code",
      "source": [
        "#Find the real part of complex number 7 - 2j\n",
        "x = 7-2j\n",
        "print(x.real)"
      ],
      "metadata": {
        "colab": {
          "base_uri": "https://localhost:8080/"
        },
        "id": "ANqaVb85GNrr",
        "outputId": "a0337c3b-9eb8-4497-9b33-01b3f883587e"
      },
      "execution_count": 4,
      "outputs": [
        {
          "output_type": "stream",
          "name": "stdout",
          "text": [
            "7.0\n"
          ]
        }
      ]
    },
    {
      "cell_type": "code",
      "source": [
        "#Find the imaginary part of complex number 4 + 6j\n",
        "x = 4+6j\n",
        "print(x.imag)"
      ],
      "metadata": {
        "colab": {
          "base_uri": "https://localhost:8080/"
        },
        "id": "MiMVZ_VcGNpS",
        "outputId": "34e64fc6-316f-4228-85eb-b4963cd35fe8"
      },
      "execution_count": 6,
      "outputs": [
        {
          "output_type": "stream",
          "name": "stdout",
          "text": [
            "6.0\n"
          ]
        }
      ]
    },
    {
      "cell_type": "code",
      "source": [
        "#Add two complex numbers: (3 + 2j) and (1 + 4j)\n",
        "x = (3+2j)\n",
        "y = (1+4j)\n",
        "print(x+y)"
      ],
      "metadata": {
        "colab": {
          "base_uri": "https://localhost:8080/"
        },
        "id": "YKIKMGgyGNnd",
        "outputId": "22c7eac0-0de6-4f34-a1b9-f25c07163245"
      },
      "execution_count": 8,
      "outputs": [
        {
          "output_type": "stream",
          "name": "stdout",
          "text": [
            "(4+6j)\n"
          ]
        }
      ]
    },
    {
      "cell_type": "code",
      "source": [
        "# Multiply two complex numbers: (2 + 3j) and (1 + 2j)\n",
        "a = (2+3j)\n",
        "b = (1+2j)\n",
        "print(a*b)"
      ],
      "metadata": {
        "colab": {
          "base_uri": "https://localhost:8080/"
        },
        "id": "UEGcPt_6GNlk",
        "outputId": "30b7fb8f-eca5-4dfd-d1c4-3b06e44ae287"
      },
      "execution_count": 9,
      "outputs": [
        {
          "output_type": "stream",
          "name": "stdout",
          "text": [
            "(-4+7j)\n"
          ]
        }
      ]
    },
    {
      "cell_type": "code",
      "source": [
        "#Find the magnitude of complex number 6 + 8j\n",
        "a = (6+8j)\n",
        "print(abs(a))"
      ],
      "metadata": {
        "colab": {
          "base_uri": "https://localhost:8080/"
        },
        "id": "bai0XolBGNjE",
        "outputId": "47541faa-70e8-44c0-a092-16c4a053bbc9"
      },
      "execution_count": 10,
      "outputs": [
        {
          "output_type": "stream",
          "name": "stdout",
          "text": [
            "10.0\n"
          ]
        }
      ]
    },
    {
      "cell_type": "code",
      "source": [
        "# Find the conjugate of complex number 5 - 7j\n",
        "a = (5 - 7j)\n",
        "print(a.conjugate)"
      ],
      "metadata": {
        "colab": {
          "base_uri": "https://localhost:8080/"
        },
        "id": "xzmIzs-KGNg3",
        "outputId": "3205ec1d-9c39-4ba0-933a-184793e96dc6"
      },
      "execution_count": 11,
      "outputs": [
        {
          "output_type": "stream",
          "name": "stdout",
          "text": [
            "<built-in method conjugate of complex object at 0x7f4a03ead7d0>\n"
          ]
        }
      ]
    },
    {
      "cell_type": "code",
      "source": [
        "#Subtract complex numbers: (10 + 5j) - (3 + 2j)\n",
        "a = (10 + 5j) - (3 + 2j)\n",
        "print(a)"
      ],
      "metadata": {
        "colab": {
          "base_uri": "https://localhost:8080/"
        },
        "id": "lUHOxdcVGNeh",
        "outputId": "95068375-2ed8-422a-88d7-3627c12c6f45"
      },
      "execution_count": 12,
      "outputs": [
        {
          "output_type": "stream",
          "name": "stdout",
          "text": [
            "(7+3j)\n"
          ]
        }
      ]
    },
    {
      "cell_type": "code",
      "source": [
        "#Divide complex numbers: (8 + 6j) / (2 + 1j)\n",
        "a = (8 + 6j) / (2 + 1j)\n",
        "print(a)"
      ],
      "metadata": {
        "colab": {
          "base_uri": "https://localhost:8080/"
        },
        "id": "NipnDbQPGNbb",
        "outputId": "c1a79806-1620-4c37-96c1-bd366afee3aa"
      },
      "execution_count": 13,
      "outputs": [
        {
          "output_type": "stream",
          "name": "stdout",
          "text": [
            "(4.4+0.8j)\n"
          ]
        }
      ]
    },
    {
      "cell_type": "code",
      "source": [
        "#Find the phase angle of complex number 1 + 1j\n",
        "import cmath\n",
        "a = 1 + 1j\n",
        "print(cmath.phase(a))\n"
      ],
      "metadata": {
        "colab": {
          "base_uri": "https://localhost:8080/"
        },
        "id": "Wfy-xnLXJuxB",
        "outputId": "a66c8ade-cd30-4562-de3d-7a6d29c69029"
      },
      "execution_count": 14,
      "outputs": [
        {
          "output_type": "stream",
          "name": "stdout",
          "text": [
            "0.7853981633974483\n"
          ]
        }
      ]
    },
    {
      "cell_type": "code",
      "source": [],
      "metadata": {
        "id": "oDdodllCJut5"
      },
      "execution_count": null,
      "outputs": []
    },
    {
      "cell_type": "code",
      "source": [],
      "metadata": {
        "id": "crMuT9gLJur3"
      },
      "execution_count": null,
      "outputs": []
    },
    {
      "cell_type": "code",
      "source": [],
      "metadata": {
        "id": "sgwU0tLaJup1"
      },
      "execution_count": null,
      "outputs": []
    },
    {
      "cell_type": "code",
      "source": [],
      "metadata": {
        "id": "n2a4TH-uJunq"
      },
      "execution_count": null,
      "outputs": []
    },
    {
      "cell_type": "code",
      "source": [],
      "metadata": {
        "id": "mC1r1qA0JulR"
      },
      "execution_count": null,
      "outputs": []
    },
    {
      "cell_type": "code",
      "source": [],
      "metadata": {
        "id": "KdEEm2esJui_"
      },
      "execution_count": null,
      "outputs": []
    },
    {
      "cell_type": "code",
      "source": [],
      "metadata": {
        "id": "bTleTOH0Jufp"
      },
      "execution_count": null,
      "outputs": []
    }
  ]
}