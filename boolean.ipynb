{
  "nbformat": 4,
  "nbformat_minor": 0,
  "metadata": {
    "colab": {
      "provenance": [],
      "authorship_tag": "ABX9TyOMEngIv6bY3R875iS5jGcf",
      "include_colab_link": true
    },
    "kernelspec": {
      "name": "python3",
      "display_name": "Python 3"
    },
    "language_info": {
      "name": "python"
    }
  },
  "cells": [
    {
      "cell_type": "markdown",
      "metadata": {
        "id": "view-in-github",
        "colab_type": "text"
      },
      "source": [
        "<a href=\"https://colab.research.google.com/github/poolaNaveen/integer.py/blob/main/boolean.ipynb\" target=\"_parent\"><img src=\"https://colab.research.google.com/assets/colab-badge.svg\" alt=\"Open In Colab\"/></a>"
      ]
    },
    {
      "cell_type": "code",
      "execution_count": 2,
      "metadata": {
        "colab": {
          "base_uri": "https://localhost:8080/"
        },
        "id": "5M7xOXKsXUjf",
        "outputId": "3ebe23fe-e463-4087-ad80-c7457543b747"
      },
      "outputs": [
        {
          "output_type": "stream",
          "name": "stdout",
          "text": [
            "25 is greater than 20 and less than 30\n"
          ]
        }
      ],
      "source": [
        "#Check if 25 is greater than 20 and less than 30\n",
        "if 25 > 20 and 25 < 30:\n",
        "  print('25 is greater than 20 and less than 30')\n",
        "else:\n",
        "  print('25 is not greater than 20 and less than 30')"
      ]
    },
    {
      "cell_type": "code",
      "source": [
        "#Check if string 'python' is equal to 'Python' (case sensitive)\n",
        "if 'python' == 'Python':\n",
        "  print('python is equal to Python')\n",
        "else:\n",
        "  print('python is not equal to Python')"
      ],
      "metadata": {
        "colab": {
          "base_uri": "https://localhost:8080/"
        },
        "id": "OncvT60bZAdL",
        "outputId": "33afe06b-49e0-4900-eb99-923041110ee6"
      },
      "execution_count": 5,
      "outputs": [
        {
          "output_type": "stream",
          "name": "stdout",
          "text": [
            "python is not equal to Python\n"
          ]
        }
      ]
    },
    {
      "cell_type": "code",
      "source": [
        "#Check if 15 is divisible by both 3 and 5\n",
        "print(15 % 3 ==0)"
      ],
      "metadata": {
        "colab": {
          "base_uri": "https://localhost:8080/"
        },
        "id": "PGryAJDYZ8sW",
        "outputId": "b9c5f759-b1b9-417f-b989-af41e1d3ba62"
      },
      "execution_count": 9,
      "outputs": [
        {
          "output_type": "stream",
          "name": "stdout",
          "text": [
            "True\n"
          ]
        }
      ]
    },
    {
      "cell_type": "code",
      "source": [
        "# Check if 7 is not equal to 8\n",
        "if 7 !=8:\n",
        "  print('7 is not equal to 8')\n",
        "else:\n",
        "  print('7 is equal to 8')\n",
        "\n",
        "\n"
      ],
      "metadata": {
        "colab": {
          "base_uri": "https://localhost:8080/"
        },
        "id": "fmFSyDJ7b8u1",
        "outputId": "9e9b1189-2284-4c26-8fcf-928940ddffc8"
      },
      "execution_count": 12,
      "outputs": [
        {
          "output_type": "stream",
          "name": "stdout",
          "text": [
            "7 is not equal to 8\n"
          ]
        }
      ]
    },
    {
      "cell_type": "code",
      "source": [
        "# Check if 100 is greater than 50 or less than 25\n",
        "if 100 > 50 and 50 < 25:\n",
        "  print('100 is greater than 50 or less than 25')\n",
        "else:\n",
        "  print('100 is not greater than 50 or less than 25')"
      ],
      "metadata": {
        "colab": {
          "base_uri": "https://localhost:8080/"
        },
        "id": "p2DSBXV7b8rM",
        "outputId": "88740688-91d8-4c3a-8532-50bfdf57a67e"
      },
      "execution_count": 16,
      "outputs": [
        {
          "output_type": "stream",
          "name": "stdout",
          "text": [
            "100 is not greater than 50 or less than 25\n"
          ]
        }
      ]
    },
    {
      "cell_type": "code",
      "source": [
        "#Check if 0 is falsy in Python\n",
        "if 0:\n",
        "  print('0 is falsy')\n",
        "else:\n",
        "  print('0 is truly')"
      ],
      "metadata": {
        "colab": {
          "base_uri": "https://localhost:8080/"
        },
        "id": "v92cS1mVb8jV",
        "outputId": "c710d174-bb9e-4dc3-c672-548671617f4f"
      },
      "execution_count": 17,
      "outputs": [
        {
          "output_type": "stream",
          "name": "stdout",
          "text": [
            "0 is truly\n"
          ]
        }
      ]
    },
    {
      "cell_type": "code",
      "source": [
        "#Check if empty string '' is falsy in Python\n",
        "if '':\n",
        "  print('empty string fasly')\n",
        "else:\n",
        "  print('empty string truly')"
      ],
      "metadata": {
        "colab": {
          "base_uri": "https://localhost:8080/"
        },
        "id": "TUrTek4ReeBW",
        "outputId": "17ffa263-aabb-4892-9d3c-1067260c455a"
      },
      "execution_count": 18,
      "outputs": [
        {
          "output_type": "stream",
          "name": "stdout",
          "text": [
            "empty string truly\n"
          ]
        }
      ]
    },
    {
      "cell_type": "code",
      "source": [
        "# Check if 42 is truthy in Python\n",
        "if 42:\n",
        "  print('42 is truly')\n",
        "else:\n",
        "  print('42 is falsy')"
      ],
      "metadata": {
        "colab": {
          "base_uri": "https://localhost:8080/"
        },
        "id": "C96D5gVFed97",
        "outputId": "6e2523d5-47e3-4780-c66b-c0202bc7ff7b"
      },
      "execution_count": 19,
      "outputs": [
        {
          "output_type": "stream",
          "name": "stdout",
          "text": [
            "42 is truly\n"
          ]
        }
      ]
    },
    {
      "cell_type": "code",
      "source": [
        "#Check if 10 is between 5 and 15 (inclusive)\n",
        "if 5 > 15:\n",
        " print('10 is not between 5 and 15')\n",
        "else:\n",
        "  print('10 is between 5 and 15 ')"
      ],
      "metadata": {
        "colab": {
          "base_uri": "https://localhost:8080/"
        },
        "id": "DklGsDI4ed7x",
        "outputId": "fbc0adeb-ba6c-4ead-a17b-c77d43191f15"
      },
      "execution_count": 22,
      "outputs": [
        {
          "output_type": "stream",
          "name": "stdout",
          "text": [
            "10 is between 5 and 15 \n"
          ]
        }
      ]
    },
    {
      "cell_type": "code",
      "source": [
        "#Check if 3.14 is greater than 3 and less than 4"
      ],
      "metadata": {
        "id": "5mnHfr_Ted5G"
      },
      "execution_count": null,
      "outputs": []
    },
    {
      "cell_type": "code",
      "source": [
        "if 3.14 > 3 and 3.14 < 4:\n",
        "  print('3.14 is greater than 3 and less than 4')\n",
        "else:\n",
        "  print('3.14 is not greater than 3 and less than 4')\n"
      ],
      "metadata": {
        "colab": {
          "base_uri": "https://localhost:8080/"
        },
        "id": "Dqvz7DRUed20",
        "outputId": "76c8c326-065e-4ccc-eed3-fe338f2f733b"
      },
      "execution_count": 23,
      "outputs": [
        {
          "output_type": "stream",
          "name": "stdout",
          "text": [
            "3.14 is greater than 3 and less than 4\n"
          ]
        }
      ]
    }
  ]
}