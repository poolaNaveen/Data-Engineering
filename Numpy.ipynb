{
  "nbformat": 4,
  "nbformat_minor": 0,
  "metadata": {
    "colab": {
      "provenance": [],
      "authorship_tag": "ABX9TyM2UHdar9aWh7IPa8BD6Hav",
      "include_colab_link": true
    },
    "kernelspec": {
      "name": "python3",
      "display_name": "Python 3"
    },
    "language_info": {
      "name": "python"
    }
  },
  "cells": [
    {
      "cell_type": "markdown",
      "metadata": {
        "id": "view-in-github",
        "colab_type": "text"
      },
      "source": [
        "<a href=\"https://colab.research.google.com/github/poolaNaveen/Data-Engineering/blob/main/Numpy.ipynb\" target=\"_parent\"><img src=\"https://colab.research.google.com/assets/colab-badge.svg\" alt=\"Open In Colab\"/></a>"
      ]
    },
    {
      "cell_type": "code",
      "execution_count": 3,
      "metadata": {
        "colab": {
          "base_uri": "https://localhost:8080/"
        },
        "id": "3l1hJay9lpQh",
        "outputId": "5e4803c0-fad2-4cad-9111-49206f1321e1"
      },
      "outputs": [
        {
          "output_type": "stream",
          "name": "stdout",
          "text": [
            "[[    1 25000   300  1200    10]\n",
            " [    2 32000   450  1500    15]\n",
            " [    3 28000   380  1100     8]\n",
            " [    4 41000   500  1600    20]\n",
            " [    5 35000   420  1400    12]\n",
            " [    6 27000   360  1300     9]\n",
            " [    7 39000   480  1700    18]\n",
            " [    8 30000   400  1250    14]\n",
            " [    9 45000   550  1800    25]\n",
            " [   10 33000   410  1450    11]]\n"
          ]
        }
      ],
      "source": [
        "# Manually created array: [Store ID, Sales, Customers, Inventory, Returns]\n",
        "import numpy as np\n",
        "retail_data = np.array([\n",
        "    [1, 25000, 300, 1200, 10],\n",
        "    [2, 32000, 450, 1500, 15],\n",
        "    [3, 28000, 380, 1100, 8],\n",
        "    [4, 41000, 500, 1600, 20],\n",
        "    [5, 35000, 420, 1400, 12],\n",
        "    [6, 27000, 360, 1300, 9],\n",
        "    [7, 39000, 480, 1700, 18],\n",
        "    [8, 30000, 400, 1250, 14],\n",
        "    [9, 45000, 550, 1800, 25],\n",
        "    [10, 33000, 410, 1450, 11]])\n",
        "print(retail_data)"
      ]
    },
    {
      "cell_type": "code",
      "source": [
        "#What is the **total revenue** generated across all stores?\n",
        "total_revenue = np.sum(retail_data[:, 1])\n",
        "print(total_revenue)"
      ],
      "metadata": {
        "colab": {
          "base_uri": "https://localhost:8080/"
        },
        "id": "WKXchoXQmgd4",
        "outputId": "55561334-1585-4e67-fc48-56470476adf1"
      },
      "execution_count": 4,
      "outputs": [
        {
          "output_type": "stream",
          "name": "stdout",
          "text": [
            "335000\n"
          ]
        }
      ]
    },
    {
      "cell_type": "code",
      "source": [
        "#Which store recorded the **highest sales**?\n",
        "highest_sales_store = np.argmax(retail_data[:, 1]) + 1\n",
        "print(highest_sales_store)"
      ],
      "metadata": {
        "colab": {
          "base_uri": "https://localhost:8080/"
        },
        "id": "I79rsDIkmggS",
        "outputId": "25cdf8fc-5962-42a0-b574-960ba6368c8a"
      },
      "execution_count": 5,
      "outputs": [
        {
          "output_type": "stream",
          "name": "stdout",
          "text": [
            "9\n"
          ]
        }
      ]
    },
    {
      "cell_type": "code",
      "source": [
        "#Which store recorded the **lowest sales**?\n",
        "lowest_sales_store = np.argmin(retail_data[:, 1]) + 1\n",
        "print(lowest_sales_store)\n"
      ],
      "metadata": {
        "colab": {
          "base_uri": "https://localhost:8080/"
        },
        "id": "tWVlp2abmgke",
        "outputId": "301a0056-fe2b-47d4-f346-c31ed836b7a8"
      },
      "execution_count": 6,
      "outputs": [
        {
          "output_type": "stream",
          "name": "stdout",
          "text": [
            "1\n"
          ]
        }
      ]
    },
    {
      "cell_type": "code",
      "source": [
        "#What is the **average daily sales** per store?\n",
        "average_daily_sales = np.mean(retail_data[:, 1])\n",
        "print(average_daily_sales)"
      ],
      "metadata": {
        "colab": {
          "base_uri": "https://localhost:8080/"
        },
        "id": "C1-5NKFwmsg0",
        "outputId": "391d372e-9580-4605-cfe1-8a71b464bf3e"
      },
      "execution_count": 7,
      "outputs": [
        {
          "output_type": "stream",
          "name": "stdout",
          "text": [
            "33500.0\n"
          ]
        }
      ]
    },
    {
      "cell_type": "code",
      "source": [
        "#How many stores achieved sales **above ₹35,000**?\n",
        "stores_above_35k = np.sum(retail_data[:, 1] > 35000)\n",
        "print(stores_above_35k)"
      ],
      "metadata": {
        "colab": {
          "base_uri": "https://localhost:8080/"
        },
        "id": "9ap2JxJNmsjI",
        "outputId": "06cc07fe-6d26-485a-8cc6-05066a86c750"
      },
      "execution_count": 8,
      "outputs": [
        {
          "output_type": "stream",
          "name": "stdout",
          "text": [
            "3\n"
          ]
        }
      ]
    },
    {
      "cell_type": "code",
      "source": [
        "#6. Which store had the **highest customer footfall**?\n",
        "retail_data[:,2].argmax()+1"
      ],
      "metadata": {
        "id": "LYhCX1RImslE"
      },
      "execution_count": null,
      "outputs": []
    },
    {
      "cell_type": "code",
      "source": [
        "#7. What is the **average number of customers** per store?\n",
        "retail_data[:,2].mean()"
      ],
      "metadata": {
        "colab": {
          "base_uri": "https://localhost:8080/"
        },
        "id": "PSkF0Vq8msm_",
        "outputId": "a0aed8fc-41b9-4cc3-a84f-20b4c51e69db"
      },
      "execution_count": 9,
      "outputs": [
        {
          "output_type": "execute_result",
          "data": {
            "text/plain": [
              "np.float64(425.0)"
            ]
          },
          "metadata": {},
          "execution_count": 9
        }
      ]
    },
    {
      "cell_type": "code",
      "source": [
        "#8. How many stores have **more than 450 customers**?\n",
        "a=retail_data[:,2]\n",
        "s=a[a>450]\n",
        "s"
      ],
      "metadata": {
        "colab": {
          "base_uri": "https://localhost:8080/"
        },
        "id": "yA-kdomBmsqg",
        "outputId": "1e29aab1-7bae-45ac-e41f-508eb685dab8"
      },
      "execution_count": 10,
      "outputs": [
        {
          "output_type": "execute_result",
          "data": {
            "text/plain": [
              "array([500, 480, 550])"
            ]
          },
          "metadata": {},
          "execution_count": 10
        }
      ]
    },
    {
      "cell_type": "code",
      "source": [
        "#9. Which store has the **lowest customer count**?\n",
        "retail_data[:,2].argmin()+1\n"
      ],
      "metadata": {
        "colab": {
          "base_uri": "https://localhost:8080/"
        },
        "id": "qMNwOWLknFPC",
        "outputId": "746d21a5-2bfd-4558-b0ae-83fc3e3779dc"
      },
      "execution_count": 11,
      "outputs": [
        {
          "output_type": "execute_result",
          "data": {
            "text/plain": [
              "np.int64(1)"
            ]
          },
          "metadata": {},
          "execution_count": 11
        }
      ]
    },
    {
      "cell_type": "code",
      "source": [
        "#10. Is there any store where **high sales do not correspond to high customers**?\n",
        "s = retail_data[:,1].mean()\n",
        "c = retail_data[:,2].mean()\n",
        "m = retail_data[(retail_data[:,1] > s) & (retail_data[:,2] < c)]\n",
        "m"
      ],
      "metadata": {
        "colab": {
          "base_uri": "https://localhost:8080/"
        },
        "id": "B73GFYS7nFLp",
        "outputId": "93a30a2c-f565-40c1-89d9-0e06c30b4919"
      },
      "execution_count": 12,
      "outputs": [
        {
          "output_type": "execute_result",
          "data": {
            "text/plain": [
              "array([[    5, 35000,   420,  1400,    12]])"
            ]
          },
          "metadata": {},
          "execution_count": 12
        }
      ]
    },
    {
      "cell_type": "code",
      "source": [],
      "metadata": {
        "id": "zHgQdW3lnFJB"
      },
      "execution_count": null,
      "outputs": []
    },
    {
      "cell_type": "code",
      "source": [],
      "metadata": {
        "id": "3cLm-57LnFHT"
      },
      "execution_count": null,
      "outputs": []
    }
  ]
}