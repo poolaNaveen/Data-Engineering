{
  "nbformat": 4,
  "nbformat_minor": 0,
  "metadata": {
    "colab": {
      "provenance": [],
      "authorship_tag": "ABX9TyMjFuve5fRC4OLG+G9cm36R",
      "include_colab_link": true
    },
    "kernelspec": {
      "name": "python3",
      "display_name": "Python 3"
    },
    "language_info": {
      "name": "python"
    }
  },
  "cells": [
    {
      "cell_type": "markdown",
      "metadata": {
        "id": "view-in-github",
        "colab_type": "text"
      },
      "source": [
        "<a href=\"https://colab.research.google.com/github/poolaNaveen/Data-Engineering/blob/main/Float.ipynb\" target=\"_parent\"><img src=\"https://colab.research.google.com/assets/colab-badge.svg\" alt=\"Open In Colab\"/></a>"
      ]
    },
    {
      "cell_type": "code",
      "execution_count": 5,
      "metadata": {
        "colab": {
          "base_uri": "https://localhost:8080/"
        },
        "id": "VVeBD1QMK1ty",
        "outputId": "78afb5ef-f288-479b-b5b3-a2c179ade7a9"
      },
      "outputs": [
        {
          "output_type": "stream",
          "name": "stdout",
          "text": [
            "2.01325\n"
          ]
        }
      ],
      "source": [
        "#Calculate the average of 3.14, 2.718, 1.618, 0.577\n",
        "x = (3.14, 2.718, 1.618, 0.577)\n",
        "print(sum(x)/len(x))\n",
        "\n"
      ]
    },
    {
      "cell_type": "code",
      "source": [
        "list = [1,3,5,67,9]\n",
        "print(sum(list)/len(list))"
      ],
      "metadata": {
        "colab": {
          "base_uri": "https://localhost:8080/"
        },
        "id": "Ozqj4T9-LD4o",
        "outputId": "488c726d-a38d-45d0-efde-0b3f01f2bca9"
      },
      "execution_count": 9,
      "outputs": [
        {
          "output_type": "stream",
          "name": "stdout",
          "text": [
            "17.0\n"
          ]
        }
      ]
    },
    {
      "cell_type": "code",
      "source": [
        "from typing import ForwardRef\n",
        "\n",
        "#Convert 98.6 Fahrenheit to Celsius\n",
        "fahrenheit = 98.6\n",
        "celsius = (fahrenheit - 32)*5/9\n",
        "print(celsius)"
      ],
      "metadata": {
        "colab": {
          "base_uri": "https://localhost:8080/"
        },
        "id": "ma3ZlyN4LD1A",
        "outputId": "7fe2470d-36fb-407b-a350-eb8a9511dcc9"
      },
      "execution_count": 12,
      "outputs": [
        {
          "output_type": "stream",
          "name": "stdout",
          "text": [
            "37.0\n"
          ]
        }
      ]
    },
    {
      "cell_type": "code",
      "source": [
        "fahrenheit = 100\n",
        "celsius = (fahrenheit -32)*5/9\n",
        "print(celsius)"
      ],
      "metadata": {
        "colab": {
          "base_uri": "https://localhost:8080/"
        },
        "id": "bhmwT3oOLDiC",
        "outputId": "04c786ba-60ef-48e5-9593-b0b1df8bf074"
      },
      "execution_count": 13,
      "outputs": [
        {
          "output_type": "stream",
          "name": "stdout",
          "text": [
            "37.77777777777778\n"
          ]
        }
      ]
    },
    {
      "cell_type": "code",
      "source": [
        "#Find the hypotenuse of a right triangle with sides 3.5 and 4.2\n",
        "import math\n",
        "a = 3.5\n",
        "b = 4.2\n",
        "h=math.sqrt(a**2 + b**2) ###Formula for hypotenuse\n",
        "print(h)\n",
        "\n"
      ],
      "metadata": {
        "colab": {
          "base_uri": "https://localhost:8080/"
        },
        "id": "pq6pJwztLDef",
        "outputId": "b5fca530-be7e-4deb-e249-bd8909fb46ba"
      },
      "execution_count": 17,
      "outputs": [
        {
          "output_type": "stream",
          "name": "stdout",
          "text": [
            "5.4671747731346585\n"
          ]
        }
      ]
    },
    {
      "cell_type": "code",
      "source": [
        "#Calculate the percentage: 45 out of 67\n",
        "percentage = 45/67*100\n",
        "print(percentage)"
      ],
      "metadata": {
        "colab": {
          "base_uri": "https://localhost:8080/"
        },
        "id": "Flca3-8TLDbF",
        "outputId": "03b5a399-b243-4430-a92c-b9cf4c5a17ab"
      },
      "execution_count": 18,
      "outputs": [
        {
          "output_type": "stream",
          "name": "stdout",
          "text": [
            "67.16417910447761\n"
          ]
        }
      ]
    },
    {
      "cell_type": "code",
      "source": [
        "###45 0ut of 89\n",
        "percentage = 45/89*100\n",
        "print(percentage)"
      ],
      "metadata": {
        "colab": {
          "base_uri": "https://localhost:8080/"
        },
        "id": "OZAIvlmqLDY3",
        "outputId": "53306bcf-0ba9-4fe5-b79d-60e8374160d0"
      },
      "execution_count": 19,
      "outputs": [
        {
          "output_type": "stream",
          "name": "stdout",
          "text": [
            "50.56179775280899\n"
          ]
        }
      ]
    },
    {
      "cell_type": "code",
      "source": [
        "#Find the square root of 23.456\n",
        "a = 23.456\n",
        "b = math.sqrt(a)\n",
        "print(b)"
      ],
      "metadata": {
        "colab": {
          "base_uri": "https://localhost:8080/"
        },
        "id": "LLsPmSqmLDWb",
        "outputId": "2a51a424-83e3-4c91-af30-e21562434ce7"
      },
      "execution_count": 20,
      "outputs": [
        {
          "output_type": "stream",
          "name": "stdout",
          "text": [
            "4.843139477652899\n"
          ]
        }
      ]
    },
    {
      "cell_type": "code",
      "source": [
        "#Calculate simple interest: Principal=2500, Rate=6.5%, Time=2.5 years\n",
        "print((2500*6.5*2.5)/100) ## PRT formula #\"P = Principal\"\n",
        "                                         #\"R = rate if intrest\"\n",
        "                                         #\"T = Time in years\"\n",
        ""
      ],
      "metadata": {
        "colab": {
          "base_uri": "https://localhost:8080/"
        },
        "id": "-CoPYGfxLDT8",
        "outputId": "1b5369a5-546f-48f3-c1d1-dd4b6ba12ca8"
      },
      "execution_count": 23,
      "outputs": [
        {
          "output_type": "stream",
          "name": "stdout",
          "text": [
            "406.25\n"
          ]
        }
      ]
    },
    {
      "cell_type": "code",
      "source": [],
      "metadata": {
        "id": "uyZLhHuaLDRl"
      },
      "execution_count": null,
      "outputs": []
    },
    {
      "cell_type": "code",
      "source": [],
      "metadata": {
        "id": "gZHxM9krLDPG"
      },
      "execution_count": null,
      "outputs": []
    },
    {
      "cell_type": "code",
      "source": [],
      "metadata": {
        "id": "WTIl5d_zLDMz"
      },
      "execution_count": null,
      "outputs": []
    },
    {
      "cell_type": "code",
      "source": [],
      "metadata": {
        "id": "UUkNWPt8LDKS"
      },
      "execution_count": null,
      "outputs": []
    },
    {
      "cell_type": "code",
      "source": [],
      "metadata": {
        "id": "w8g0N8JNLDH-"
      },
      "execution_count": null,
      "outputs": []
    },
    {
      "cell_type": "code",
      "source": [],
      "metadata": {
        "id": "rlEXjjTNLDFm"
      },
      "execution_count": null,
      "outputs": []
    },
    {
      "cell_type": "code",
      "source": [],
      "metadata": {
        "id": "aByp1MQOLDDR"
      },
      "execution_count": null,
      "outputs": []
    },
    {
      "cell_type": "code",
      "source": [],
      "metadata": {
        "id": "5F4MItI_LDA7"
      },
      "execution_count": null,
      "outputs": []
    },
    {
      "cell_type": "code",
      "source": [],
      "metadata": {
        "id": "Tok4y3HsLC-g"
      },
      "execution_count": null,
      "outputs": []
    },
    {
      "cell_type": "code",
      "source": [],
      "metadata": {
        "id": "aooM7jD9LC7v"
      },
      "execution_count": null,
      "outputs": []
    }
  ]
}