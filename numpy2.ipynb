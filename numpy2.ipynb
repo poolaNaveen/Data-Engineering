{
  "nbformat": 4,
  "nbformat_minor": 0,
  "metadata": {
    "colab": {
      "provenance": [],
      "authorship_tag": "ABX9TyNzS1xsFiCFF/Hfos4nIMr0",
      "include_colab_link": true
    },
    "kernelspec": {
      "name": "python3",
      "display_name": "Python 3"
    },
    "language_info": {
      "name": "python"
    }
  },
  "cells": [
    {
      "cell_type": "markdown",
      "metadata": {
        "id": "view-in-github",
        "colab_type": "text"
      },
      "source": [
        "<a href=\"https://colab.research.google.com/github/poolaNaveen/Python/blob/main/numpy2.ipynb\" target=\"_parent\"><img src=\"https://colab.research.google.com/assets/colab-badge.svg\" alt=\"Open In Colab\"/></a>"
      ]
    },
    {
      "cell_type": "code",
      "execution_count": null,
      "metadata": {
        "colab": {
          "base_uri": "https://localhost:8080/"
        },
        "id": "ybCziVXTOJE2",
        "outputId": "d10da3c0-2775-4d71-9d93-d83256055c7a"
      },
      "outputs": [
        {
          "output_type": "execute_result",
          "data": {
            "text/plain": [
              "array([[0, 1, 1],\n",
              "       [1, 2, 7],\n",
              "       [2, 6, 8]])"
            ]
          },
          "metadata": {},
          "execution_count": 1
        }
      ],
      "source": [
        "import numpy as np\n",
        "data=np.random.randint(0,10,(3,3))\n",
        "data"
      ]
    },
    {
      "cell_type": "code",
      "source": [
        "import numpy as np\n",
        "data=np.random.randint(0,20,(4,4))\n",
        "data"
      ],
      "metadata": {
        "colab": {
          "base_uri": "https://localhost:8080/"
        },
        "id": "SyIPTF0CO0W6",
        "outputId": "66b8ea63-ddf2-43e9-911f-d7f7120d1d32"
      },
      "execution_count": null,
      "outputs": [
        {
          "output_type": "execute_result",
          "data": {
            "text/plain": [
              "array([[ 6,  1,  8, 13],\n",
              "       [ 0,  3,  8,  1],\n",
              "       [14,  6,  7, 12],\n",
              "       [16,  8,  2, 15]])"
            ]
          },
          "metadata": {},
          "execution_count": 2
        }
      ]
    },
    {
      "cell_type": "code",
      "source": [
        "import numpy as np\n",
        "data=np.random.randint(0,30,(4,4))\n",
        "data"
      ],
      "metadata": {
        "colab": {
          "base_uri": "https://localhost:8080/"
        },
        "id": "OkGy6LtsO0ZO",
        "outputId": "f9eaaf58-6dc5-4652-a606-2e70848fa66e"
      },
      "execution_count": null,
      "outputs": [
        {
          "output_type": "execute_result",
          "data": {
            "text/plain": [
              "array([[23, 25,  6, 23],\n",
              "       [21, 20, 24, 17],\n",
              "       [19, 23, 17,  7],\n",
              "       [ 6,  0,  5, 11]])"
            ]
          },
          "metadata": {},
          "execution_count": 3
        }
      ]
    },
    {
      "cell_type": "code",
      "source": [
        "np.random.randint(0,10,(2,2))kk"
      ],
      "metadata": {
        "colab": {
          "base_uri": "https://localhost:8080/"
        },
        "id": "4l9rtSoRO0bj",
        "outputId": "3ab3f271-012e-470f-c555-797c517b8f90"
      },
      "execution_count": null,
      "outputs": [
        {
          "output_type": "execute_result",
          "data": {
            "text/plain": [
              "array([[6, 5],\n",
              "       [4, 5]])"
            ]
          },
          "metadata": {},
          "execution_count": 11
        }
      ]
    },
    {
      "cell_type": "code",
      "source": [
        "import numpy as np\n",
        "data = np.random.randint(0,5,(3,3))\n",
        "data\n",
        "data.sum(axis=1)"
      ],
      "metadata": {
        "colab": {
          "base_uri": "https://localhost:8080/"
        },
        "id": "xoHoDMrYO0d7",
        "outputId": "5ac66194-5615-447d-f309-d2fa40afd1bb"
      },
      "execution_count": null,
      "outputs": [
        {
          "output_type": "execute_result",
          "data": {
            "text/plain": [
              "array([6, 7, 4])"
            ]
          },
          "metadata": {},
          "execution_count": 16
        }
      ]
    },
    {
      "cell_type": "code",
      "source": [
        "data.sum(axis=1)"
      ],
      "metadata": {
        "colab": {
          "base_uri": "https://localhost:8080/"
        },
        "id": "yCf9T8CmO0gP",
        "outputId": "fd2c21f0-07cd-4bbe-a67d-1d20a8e3eaef"
      },
      "execution_count": null,
      "outputs": [
        {
          "output_type": "execute_result",
          "data": {
            "text/plain": [
              "array([3, 8, 4])"
            ]
          },
          "metadata": {},
          "execution_count": 15
        }
      ]
    },
    {
      "cell_type": "code",
      "source": [
        "import numpy as np\n",
        "data = np.random.randint(0,20,(3,3))\n",
        "data\n"
      ],
      "metadata": {
        "colab": {
          "base_uri": "https://localhost:8080/"
        },
        "id": "bgoPe83RO0jr",
        "outputId": "6bc0e153-7b1e-4f76-fb38-e803cde9972b"
      },
      "execution_count": null,
      "outputs": [
        {
          "output_type": "execute_result",
          "data": {
            "text/plain": [
              "array([[12, 10, 15],\n",
              "       [19,  7,  5],\n",
              "       [ 4, 19,  4]])"
            ]
          },
          "metadata": {},
          "execution_count": 22
        }
      ]
    },
    {
      "cell_type": "code",
      "source": [
        "data.sum(axis=1)\n"
      ],
      "metadata": {
        "colab": {
          "base_uri": "https://localhost:8080/"
        },
        "id": "8Nv521GVo5wl",
        "outputId": "fd17a1f5-a9e2-4be0-f09b-19bdab5c8f6f"
      },
      "execution_count": null,
      "outputs": [
        {
          "output_type": "execute_result",
          "data": {
            "text/plain": [
              "array([37, 31, 27])"
            ]
          },
          "metadata": {},
          "execution_count": 28
        }
      ]
    },
    {
      "cell_type": "code",
      "source": [
        "data.max(axis=1)"
      ],
      "metadata": {
        "colab": {
          "base_uri": "https://localhost:8080/"
        },
        "id": "7BMrcK-Ao5y9",
        "outputId": "2206f421-f473-4ab5-e13e-498425652573"
      },
      "execution_count": null,
      "outputs": [
        {
          "output_type": "execute_result",
          "data": {
            "text/plain": [
              "array([15, 19, 19])"
            ]
          },
          "metadata": {},
          "execution_count": 29
        }
      ]
    },
    {
      "cell_type": "code",
      "source": [
        "data.min(axis=0)"
      ],
      "metadata": {
        "colab": {
          "base_uri": "https://localhost:8080/"
        },
        "id": "TuPDdzN-o51D",
        "outputId": "4aacf631-7da0-4015-b49e-e1c1e2db531b"
      },
      "execution_count": null,
      "outputs": [
        {
          "output_type": "execute_result",
          "data": {
            "text/plain": [
              "array([4, 7, 4])"
            ]
          },
          "metadata": {},
          "execution_count": 30
        }
      ]
    },
    {
      "cell_type": "code",
      "source": [
        "data = np.random.randint(0,10,10)\n",
        "data"
      ],
      "metadata": {
        "colab": {
          "base_uri": "https://localhost:8080/"
        },
        "id": "mxntE2ELtXRe",
        "outputId": "739463e0-d340-4368-b700-a5f2cef1bee3"
      },
      "execution_count": null,
      "outputs": [
        {
          "output_type": "execute_result",
          "data": {
            "text/plain": [
              "array([0, 9, 9, 0, 6, 6, 5, 3, 8, 4])"
            ]
          },
          "metadata": {},
          "execution_count": 31
        }
      ]
    },
    {
      "cell_type": "code",
      "source": [
        "data = np.random.randint(0,10,10)\n",
        "data\n"
      ],
      "metadata": {
        "colab": {
          "base_uri": "https://localhost:8080/"
        },
        "id": "DYa15yMwtXOF",
        "outputId": "91444ea2-c0ed-49af-9862-af29c4031d8a"
      },
      "execution_count": null,
      "outputs": [
        {
          "output_type": "execute_result",
          "data": {
            "text/plain": [
              "array([1, 4, 0, 9, 2, 9, 7, 4, 0, 9])"
            ]
          },
          "metadata": {},
          "execution_count": 36
        }
      ]
    },
    {
      "cell_type": "code",
      "source": [
        "data.argmin()"
      ],
      "metadata": {
        "colab": {
          "base_uri": "https://localhost:8080/"
        },
        "id": "8mc0j25dtXLa",
        "outputId": "866648de-aad6-48fe-a401-dc71ee51742e"
      },
      "execution_count": null,
      "outputs": [
        {
          "output_type": "execute_result",
          "data": {
            "text/plain": [
              "np.int64(2)"
            ]
          },
          "metadata": {},
          "execution_count": 37
        }
      ]
    },
    {
      "cell_type": "code",
      "source": [
        "data = np.random.randint(0,100,(3,3))\n",
        "data.argmin(axis=1)\n",
        "data\n"
      ],
      "metadata": {
        "colab": {
          "base_uri": "https://localhost:8080/"
        },
        "id": "8F6qzwrTtXI3",
        "outputId": "9623982e-2fbc-4c2e-db2f-eeaaf026aa80"
      },
      "execution_count": null,
      "outputs": [
        {
          "output_type": "execute_result",
          "data": {
            "text/plain": [
              "array([[45, 97, 35],\n",
              "       [26, 61, 78],\n",
              "       [ 5, 38, 27]])"
            ]
          },
          "metadata": {},
          "execution_count": 39
        }
      ]
    },
    {
      "cell_type": "code",
      "source": [
        "data.argmin(axis=1)\n"
      ],
      "metadata": {
        "colab": {
          "base_uri": "https://localhost:8080/"
        },
        "id": "ItB_SaAhtXGm",
        "outputId": "db4d749d-2bcc-4fb8-d4f8-2cc8b1855f4d"
      },
      "execution_count": null,
      "outputs": [
        {
          "output_type": "execute_result",
          "data": {
            "text/plain": [
              "array([2, 0, 0])"
            ]
          },
          "metadata": {},
          "execution_count": 40
        }
      ]
    },
    {
      "cell_type": "code",
      "source": [
        "# Define column names\n",
        "columns = [\n",
        "    \"OrderID\", \"Date\", \"CustomerName\", \"Product\", \"Category\",\n",
        "    \"Quantity\", \"Price\", \"Discount\", \"Sales\", \"TotalAmount\", \"PaymentMode\"\n",
        "]\n",
        "\n",
        "\n",
        "\n",
        "\n",
        "data = np.array([\n",
        "    [1001, \"2025-10-01\", \"Naveen P\", \"Laptop\", \"Electronics\", 1, 55000, \"5%\", 55000, 52250, \"Credit Card\"],\n",
        "    [1002, \"2025-10-01\", \"Raju K\", \"T-Shirt\", \"Apparel\", 3, 600, \"0%\", 1800, 1800, \"UPI\"],\n",
        "    [1003, \"2025-10-02\", \"Manju R\", \"Refrigerator\", \"Appliances\", 1, 32000, \"10%\", 32000, 28800, \"Debit Card\"],\n",
        "    [1004, \"2025-10-02\", \"Ravi S\", \"Shoes\", \"Footwear\", 2, 2500, \"15%\", 5000, 4250, \"Cash\"],\n",
        "    [1005, \"2025-10-03\", \"Ryou M\", \"Mobile Phone\", \"Electronics\", 1, 22000, \"8%\", 22000, 20240, \"Net Banking\"]\n",
        "], dtype=object)\n",
        "data"
      ],
      "metadata": {
        "colab": {
          "base_uri": "https://localhost:8080/"
        },
        "id": "ikT4eoXHtXEI",
        "outputId": "857faeed-9ac1-479a-ded7-168fd11b1048"
      },
      "execution_count": null,
      "outputs": [
        {
          "output_type": "execute_result",
          "data": {
            "text/plain": [
              "array([[1001, '2025-10-01', 'Naveen P', 'Laptop', 'Electronics', 1,\n",
              "        55000, '5%', 55000, 52250, 'Credit Card'],\n",
              "       [1002, '2025-10-01', 'Raju K', 'T-Shirt', 'Apparel', 3, 600, '0%',\n",
              "        1800, 1800, 'UPI'],\n",
              "       [1003, '2025-10-02', 'Manju R', 'Refrigerator', 'Appliances', 1,\n",
              "        32000, '10%', 32000, 28800, 'Debit Card'],\n",
              "       [1004, '2025-10-02', 'Ravi S', 'Shoes', 'Footwear', 2, 2500,\n",
              "        '15%', 5000, 4250, 'Cash'],\n",
              "       [1005, '2025-10-03', 'Ryou M', 'Mobile Phone', 'Electronics', 1,\n",
              "        22000, '8%', 22000, 20240, 'Net Banking']], dtype=object)"
            ]
          },
          "metadata": {},
          "execution_count": 45
        }
      ]
    },
    {
      "cell_type": "code",
      "source": [
        "data[:,6]"
      ],
      "metadata": {
        "colab": {
          "base_uri": "https://localhost:8080/"
        },
        "id": "c4as3wM1tXBq",
        "outputId": "ded0713f-ee4b-4d90-b56d-d1908c6ef0ba"
      },
      "execution_count": null,
      "outputs": [
        {
          "output_type": "execute_result",
          "data": {
            "text/plain": [
              "array([55000, 600, 32000, 2500, 22000], dtype=object)"
            ]
          },
          "metadata": {},
          "execution_count": 53
        }
      ]
    },
    {
      "cell_type": "code",
      "source": [
        "data[:,6].sum()"
      ],
      "metadata": {
        "colab": {
          "base_uri": "https://localhost:8080/"
        },
        "id": "3ny4sQElo54h",
        "outputId": "4019a2c4-d202-4050-fd7d-065b1186bd79"
      },
      "execution_count": null,
      "outputs": [
        {
          "output_type": "execute_result",
          "data": {
            "text/plain": [
              "112100"
            ]
          },
          "metadata": {},
          "execution_count": 52
        }
      ]
    },
    {
      "cell_type": "code",
      "source": [
        "data[:,5].argmax()+1"
      ],
      "metadata": {
        "colab": {
          "base_uri": "https://localhost:8080/"
        },
        "id": "0FqNdLtk0cQl",
        "outputId": "e97195c8-d5e0-40c1-e255-4167e2d35a43"
      },
      "execution_count": null,
      "outputs": [
        {
          "output_type": "execute_result",
          "data": {
            "text/plain": [
              "np.int64(2)"
            ]
          },
          "metadata": {},
          "execution_count": 56
        }
      ]
    },
    {
      "cell_type": "code",
      "source": [
        "(data[:,6]/data[:,5]).argmax()+1"
      ],
      "metadata": {
        "colab": {
          "base_uri": "https://localhost:8080/"
        },
        "id": "A2XsnAeI0cOX",
        "outputId": "b17cf146-06b2-4d32-a7d2-339e33da7e35"
      },
      "execution_count": null,
      "outputs": [
        {
          "output_type": "execute_result",
          "data": {
            "text/plain": [
              "np.int64(1)"
            ]
          },
          "metadata": {},
          "execution_count": 57
        }
      ]
    },
    {
      "cell_type": "code",
      "source": [
        "###Boardcasting in numpy\n",
        "\n",
        "import numpy as np\n",
        "x = np.random.randint(0,10,(3,3))\n",
        "y = np.random.randint(0,10,(3,1)) ## scalar\n",
        "print(x)\n",
        "print(y)"
      ],
      "metadata": {
        "colab": {
          "base_uri": "https://localhost:8080/"
        },
        "id": "apOv6g3H0cMM",
        "outputId": "a33c59c7-712f-4fd0-fd4e-bfaac83eee35"
      },
      "execution_count": null,
      "outputs": [
        {
          "output_type": "stream",
          "name": "stdout",
          "text": [
            "[[8 0 8]\n",
            " [9 1 4]\n",
            " [4 0 1]]\n",
            "[[8]\n",
            " [8]\n",
            " [9]]\n"
          ]
        }
      ]
    },
    {
      "cell_type": "code",
      "source": [
        "print(x+y)"
      ],
      "metadata": {
        "colab": {
          "base_uri": "https://localhost:8080/"
        },
        "id": "rknJmIKL0cJ2",
        "outputId": "8c7adde3-4648-4e43-d186-0adbc5ea4576"
      },
      "execution_count": null,
      "outputs": [
        {
          "output_type": "stream",
          "name": "stdout",
          "text": [
            "[[13  9  9]\n",
            " [ 9  8 14]\n",
            " [13 12 12]]\n"
          ]
        }
      ]
    },
    {
      "cell_type": "code",
      "source": [
        "import math\n",
        "np.log(math.pow(2.71823,0.234))"
      ],
      "metadata": {
        "colab": {
          "base_uri": "https://localhost:8080/"
        },
        "id": "-cRrrIyY0cHj",
        "outputId": "f8c59e2a-b187-4d14-96cd-76a6bae01c79"
      },
      "execution_count": null,
      "outputs": [
        {
          "output_type": "execute_result",
          "data": {
            "text/plain": [
              "np.float64(0.233995538367321)"
            ]
          },
          "metadata": {},
          "execution_count": 9
        }
      ]
    },
    {
      "cell_type": "code",
      "source": [
        "data1=np.random.randint(0,10,(3,3))\n",
        "data2=np.random.randint(0,10,(3,3))\n",
        "print(data1)\n",
        "print(data2)"
      ],
      "metadata": {
        "colab": {
          "base_uri": "https://localhost:8080/"
        },
        "id": "JAUclaJdUlZV",
        "outputId": "fea5726c-f3fa-47aa-8930-ecb4f993413a"
      },
      "execution_count": null,
      "outputs": [
        {
          "output_type": "stream",
          "name": "stdout",
          "text": [
            "[[3 9 0]\n",
            " [0 4 3]\n",
            " [8 6 1]]\n",
            "[[0 9 5]\n",
            " [0 5 3]\n",
            " [0 8 1]]\n"
          ]
        }
      ]
    },
    {
      "cell_type": "code",
      "source": [
        "data1+data2"
      ],
      "metadata": {
        "colab": {
          "base_uri": "https://localhost:8080/"
        },
        "id": "6jfzp2CyTS1N",
        "outputId": "5f1abf22-e29c-4b0f-c1bd-fa45b53d2219"
      },
      "execution_count": null,
      "outputs": [
        {
          "output_type": "execute_result",
          "data": {
            "text/plain": [
              "array([[ 3, 18,  5],\n",
              "       [ 0,  9,  6],\n",
              "       [ 8, 14,  2]])"
            ]
          },
          "metadata": {},
          "execution_count": 11
        }
      ]
    },
    {
      "cell_type": "code",
      "source": [
        "np.add(data1,data2)"
      ],
      "metadata": {
        "colab": {
          "base_uri": "https://localhost:8080/"
        },
        "id": "_aGhZrZGTSzE",
        "outputId": "da3cb592-cbdb-46c8-888f-9913513925f5"
      },
      "execution_count": null,
      "outputs": [
        {
          "output_type": "execute_result",
          "data": {
            "text/plain": [
              "array([[ 3, 18,  5],\n",
              "       [ 0,  9,  6],\n",
              "       [ 8, 14,  2]])"
            ]
          },
          "metadata": {},
          "execution_count": 12
        }
      ]
    },
    {
      "cell_type": "code",
      "source": [
        "np.subtract(data1,data2)"
      ],
      "metadata": {
        "colab": {
          "base_uri": "https://localhost:8080/"
        },
        "id": "0XL2dSXBTSw4",
        "outputId": "0048812c-4b9c-44b5-a6b2-cc96d26754f8"
      },
      "execution_count": null,
      "outputs": [
        {
          "output_type": "execute_result",
          "data": {
            "text/plain": [
              "array([[ 3,  0, -5],\n",
              "       [ 0, -1,  0],\n",
              "       [ 8, -2,  0]])"
            ]
          },
          "metadata": {},
          "execution_count": 13
        }
      ]
    },
    {
      "cell_type": "code",
      "source": [
        "np.multiply(data1,data2)"
      ],
      "metadata": {
        "colab": {
          "base_uri": "https://localhost:8080/"
        },
        "id": "AE9ZSNzQTSub",
        "outputId": "1d48566d-8ab9-474a-fdc5-b282c6a66161"
      },
      "execution_count": null,
      "outputs": [
        {
          "output_type": "execute_result",
          "data": {
            "text/plain": [
              "array([[ 0, 81,  0],\n",
              "       [ 0, 20,  9],\n",
              "       [ 0, 48,  1]])"
            ]
          },
          "metadata": {},
          "execution_count": 14
        }
      ]
    },
    {
      "cell_type": "code",
      "source": [
        "np.divide(data1,data2)"
      ],
      "metadata": {
        "colab": {
          "base_uri": "https://localhost:8080/"
        },
        "id": "ufp32JhNTSsH",
        "outputId": "ab6544c0-b5ed-49e1-f87f-0a40d1832b91"
      },
      "execution_count": null,
      "outputs": [
        {
          "output_type": "stream",
          "name": "stderr",
          "text": [
            "/tmp/ipython-input-3065414091.py:1: RuntimeWarning: divide by zero encountered in divide\n",
            "  np.divide(data1,data2)\n",
            "/tmp/ipython-input-3065414091.py:1: RuntimeWarning: invalid value encountered in divide\n",
            "  np.divide(data1,data2)\n"
          ]
        },
        {
          "output_type": "execute_result",
          "data": {
            "text/plain": [
              "array([[ inf, 1.  , 0.  ],\n",
              "       [ nan, 0.8 , 1.  ],\n",
              "       [ inf, 0.75, 1.  ]])"
            ]
          },
          "metadata": {},
          "execution_count": 15
        }
      ]
    },
    {
      "cell_type": "code",
      "source": [
        "data1"
      ],
      "metadata": {
        "colab": {
          "base_uri": "https://localhost:8080/"
        },
        "id": "u0w2Cu85VGtM",
        "outputId": "fddeb3d7-1412-4601-e006-bc796740781f"
      },
      "execution_count": null,
      "outputs": [
        {
          "output_type": "execute_result",
          "data": {
            "text/plain": [
              "array([[3, 9, 0],\n",
              "       [0, 4, 3],\n",
              "       [8, 6, 1]])"
            ]
          },
          "metadata": {},
          "execution_count": 16
        }
      ]
    },
    {
      "cell_type": "code",
      "source": [
        "data2"
      ],
      "metadata": {
        "colab": {
          "base_uri": "https://localhost:8080/"
        },
        "id": "oGxwNnhiTSpm",
        "outputId": "7aae57b6-221b-4a99-f019-bf2ef5d91d77"
      },
      "execution_count": null,
      "outputs": [
        {
          "output_type": "execute_result",
          "data": {
            "text/plain": [
              "array([[0, 9, 5],\n",
              "       [0, 5, 3],\n",
              "       [0, 8, 1]])"
            ]
          },
          "metadata": {},
          "execution_count": 17
        }
      ]
    },
    {
      "cell_type": "code",
      "source": [
        "np.floor_divide(data1,data2)"
      ],
      "metadata": {
        "colab": {
          "base_uri": "https://localhost:8080/"
        },
        "id": "O1mjOhorTSnK",
        "outputId": "2856b5f4-efa5-49a1-a3a3-6bbe345d120b"
      },
      "execution_count": null,
      "outputs": [
        {
          "output_type": "stream",
          "name": "stderr",
          "text": [
            "/tmp/ipython-input-583036681.py:1: RuntimeWarning: divide by zero encountered in floor_divide\n",
            "  np.floor_divide(data1,data2)\n"
          ]
        },
        {
          "output_type": "execute_result",
          "data": {
            "text/plain": [
              "array([[0, 1, 0],\n",
              "       [0, 0, 1],\n",
              "       [0, 0, 1]])"
            ]
          },
          "metadata": {},
          "execution_count": 19
        }
      ]
    },
    {
      "cell_type": "code",
      "source": [
        "#ceil function is used to round the value\n",
        "\n",
        "data=np.random.randint(0,1,10)/5\n",
        "print(data)\n",
        "np.ceil(data)"
      ],
      "metadata": {
        "colab": {
          "base_uri": "https://localhost:8080/"
        },
        "id": "UVf7oyZ3TSk2",
        "outputId": "4c9c9a30-eaf2-4914-8281-c2a567aca646"
      },
      "execution_count": null,
      "outputs": [
        {
          "output_type": "stream",
          "name": "stdout",
          "text": [
            "[0. 0. 0. 0. 0. 0. 0. 0. 0. 0.]\n"
          ]
        },
        {
          "output_type": "execute_result",
          "data": {
            "text/plain": [
              "array([0., 0., 0., 0., 0., 0., 0., 0., 0., 0.])"
            ]
          },
          "metadata": {},
          "execution_count": 20
        }
      ]
    },
    {
      "cell_type": "code",
      "source": [
        "import numpy as np\n",
        "data = np.random.randint(0,50,5)\n",
        "print(data)\n"
      ],
      "metadata": {
        "colab": {
          "base_uri": "https://localhost:8080/"
        },
        "id": "HI6Prnb-TShO",
        "outputId": "77776abb-997f-45ca-a2bc-a075055a4a84"
      },
      "execution_count": null,
      "outputs": [
        {
          "output_type": "stream",
          "name": "stdout",
          "text": [
            "[27 26 21 41 40]\n"
          ]
        }
      ]
    },
    {
      "cell_type": "code",
      "source": [
        "data>5\n"
      ],
      "metadata": {
        "colab": {
          "base_uri": "https://localhost:8080/"
        },
        "id": "OVmiUGdZTSfP",
        "outputId": "89ad35e3-8511-4c30-8197-362d72287f9b"
      },
      "execution_count": null,
      "outputs": [
        {
          "output_type": "execute_result",
          "data": {
            "text/plain": [
              "array([ True,  True,  True,  True,  True])"
            ]
          },
          "metadata": {},
          "execution_count": 22
        }
      ]
    },
    {
      "cell_type": "code",
      "source": [
        "marks = np.random.randint(10,100,20)\n",
        "print(marks)"
      ],
      "metadata": {
        "colab": {
          "base_uri": "https://localhost:8080/"
        },
        "id": "w-dCRWzaTSdF",
        "outputId": "a78039b0-83b4-4eb4-8584-1c06d0ed0b77"
      },
      "execution_count": null,
      "outputs": [
        {
          "output_type": "stream",
          "name": "stdout",
          "text": [
            "[93 30 16 36 26 71 23 50 37 83 20 97 51 13 13 74 63 95 62 30]\n"
          ]
        }
      ]
    },
    {
      "cell_type": "code",
      "source": [
        "marks[marks>35]"
      ],
      "metadata": {
        "colab": {
          "base_uri": "https://localhost:8080/"
        },
        "id": "RsC0-XW7TSbG",
        "outputId": "c8e8d852-2f9a-4be7-aa3b-cf16bac2349d"
      },
      "execution_count": null,
      "outputs": [
        {
          "output_type": "execute_result",
          "data": {
            "text/plain": [
              "array([93, 36, 71, 50, 37, 83, 97, 51, 74, 63, 95, 62])"
            ]
          },
          "metadata": {},
          "execution_count": 26
        }
      ]
    },
    {
      "cell_type": "code",
      "source": [
        "marks[marks<35]"
      ],
      "metadata": {
        "colab": {
          "base_uri": "https://localhost:8080/"
        },
        "id": "gwngkihsTSYw",
        "outputId": "1d3d3215-03da-468f-c53c-1062802a552f"
      },
      "execution_count": null,
      "outputs": [
        {
          "output_type": "execute_result",
          "data": {
            "text/plain": [
              "array([30, 16, 26, 23, 20, 13, 13, 30])"
            ]
          },
          "metadata": {},
          "execution_count": 27
        }
      ]
    },
    {
      "cell_type": "code",
      "source": [
        "marks[marks<=np.mean(marks)] ## avergae"
      ],
      "metadata": {
        "colab": {
          "base_uri": "https://localhost:8080/"
        },
        "id": "HAmgb1ELTSWV",
        "outputId": "85b4aae5-adef-4cd0-b351-9c194e179448"
      },
      "execution_count": null,
      "outputs": [
        {
          "output_type": "execute_result",
          "data": {
            "text/plain": [
              "array([30, 16, 36, 26, 23, 37, 20, 13, 13, 30])"
            ]
          },
          "metadata": {},
          "execution_count": 28
        }
      ]
    },
    {
      "cell_type": "code",
      "source": [
        "###array manipulation"
      ],
      "metadata": {
        "id": "AXWHCr_Q0cFP"
      },
      "execution_count": null,
      "outputs": []
    },
    {
      "cell_type": "code",
      "source": [
        "data = np.random.randint(0,20,(3,3))\n",
        "print(data)"
      ],
      "metadata": {
        "colab": {
          "base_uri": "https://localhost:8080/"
        },
        "id": "CY5Z0blHXvHx",
        "outputId": "88ba8bac-53f1-4e23-9d4d-25289aea06f6"
      },
      "execution_count": null,
      "outputs": [
        {
          "output_type": "stream",
          "name": "stdout",
          "text": [
            "[[10 11 13]\n",
            " [16  4 12]\n",
            " [ 8 17  0]]\n"
          ]
        }
      ]
    },
    {
      "cell_type": "code",
      "source": [
        "data.T ## T stands for traspose\n",
        "       ## rows will become coloum,\n",
        "       ## coloum will become rows\n"
      ],
      "metadata": {
        "colab": {
          "base_uri": "https://localhost:8080/"
        },
        "id": "Xm2mlzCqXvEN",
        "outputId": "83e36c7e-f673-4ee4-e4c4-79f3dc339748"
      },
      "execution_count": null,
      "outputs": [
        {
          "output_type": "execute_result",
          "data": {
            "text/plain": [
              "array([[10, 16,  8],\n",
              "       [11,  4, 17],\n",
              "       [13, 12,  0]])"
            ]
          },
          "metadata": {},
          "execution_count": 33
        }
      ]
    },
    {
      "cell_type": "code",
      "source": [
        "data = np.random.randint(0,20,(3,3))\n",
        "print(data)\n",
        "data.reshape(1,9)"
      ],
      "metadata": {
        "colab": {
          "base_uri": "https://localhost:8080/"
        },
        "id": "TKjK94Y-XvBv",
        "outputId": "3f05e889-b4a1-4a3e-dae8-62a3264cada2"
      },
      "execution_count": null,
      "outputs": [
        {
          "output_type": "stream",
          "name": "stdout",
          "text": [
            "[[ 9  3  0]\n",
            " [ 3  2 11]\n",
            " [ 0  6 12]]\n"
          ]
        },
        {
          "output_type": "execute_result",
          "data": {
            "text/plain": [
              "array([[ 9,  3,  0,  3,  2, 11,  0,  6, 12]])"
            ]
          },
          "metadata": {},
          "execution_count": 44
        }
      ]
    },
    {
      "cell_type": "code",
      "source": [
        "np.hstack([data1,data2]) ## is a horizontal stack"
      ],
      "metadata": {
        "colab": {
          "base_uri": "https://localhost:8080/"
        },
        "id": "tkQNJ--WXu_y",
        "outputId": "cb59676d-178c-4f27-cec6-e01d32b40828"
      },
      "execution_count": null,
      "outputs": [
        {
          "output_type": "execute_result",
          "data": {
            "text/plain": [
              "array([[3, 9, 0, 0, 9, 5],\n",
              "       [0, 4, 3, 0, 5, 3],\n",
              "       [8, 6, 1, 0, 8, 1]])"
            ]
          },
          "metadata": {},
          "execution_count": 46
        }
      ]
    },
    {
      "cell_type": "code",
      "source": [
        "np.vstack([data1,data2])   #Vertical stack"
      ],
      "metadata": {
        "colab": {
          "base_uri": "https://localhost:8080/"
        },
        "id": "vFZIqo12Xu9j",
        "outputId": "6840ca87-c635-44be-d9e2-9f62c763896f"
      },
      "execution_count": null,
      "outputs": [
        {
          "output_type": "execute_result",
          "data": {
            "text/plain": [
              "array([[3, 9, 0],\n",
              "       [0, 4, 3],\n",
              "       [8, 6, 1],\n",
              "       [0, 9, 5],\n",
              "       [0, 5, 3],\n",
              "       [0, 8, 1]])"
            ]
          },
          "metadata": {},
          "execution_count": 48
        }
      ]
    },
    {
      "cell_type": "code",
      "source": [
        "data = np.random.randint(0,10,10)## split it cannot work both equal values\n",
        "np.split(data,2)"
      ],
      "metadata": {
        "colab": {
          "base_uri": "https://localhost:8080/"
        },
        "id": "138yie29Xu7i",
        "outputId": "9c581b1f-a462-4011-d7d2-e8e98b3e090e"
      },
      "execution_count": null,
      "outputs": [
        {
          "output_type": "execute_result",
          "data": {
            "text/plain": [
              "[array([9, 0, 5, 4, 7]), array([5, 3, 2, 8, 5])]"
            ]
          },
          "metadata": {},
          "execution_count": 53
        }
      ]
    },
    {
      "cell_type": "code",
      "source": [
        "matrix = np.array([[1,2,3,4],\n",
        "                   [5,6,7,8 ]])\n"
      ],
      "metadata": {
        "id": "an88S1a4Xu5d"
      },
      "execution_count": null,
      "outputs": []
    },
    {
      "cell_type": "code",
      "source": [],
      "metadata": {
        "id": "ZTEAW6wcXu3G"
      },
      "execution_count": null,
      "outputs": []
    },
    {
      "cell_type": "code",
      "source": [],
      "metadata": {
        "id": "Bj95_vYGXu1B"
      },
      "execution_count": null,
      "outputs": []
    }
  ]
}