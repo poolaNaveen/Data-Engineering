{
  "nbformat": 4,
  "nbformat_minor": 0,
  "metadata": {
    "colab": {
      "provenance": [],
      "authorship_tag": "ABX9TyMd+v2I/EfOsvyOvKrfracj",
      "include_colab_link": true
    },
    "kernelspec": {
      "name": "python3",
      "display_name": "Python 3"
    },
    "language_info": {
      "name": "python"
    }
  },
  "cells": [
    {
      "cell_type": "markdown",
      "metadata": {
        "id": "view-in-github",
        "colab_type": "text"
      },
      "source": [
        "<a href=\"https://colab.research.google.com/github/poolaNaveen/Data-Engineering/blob/main/Numpy1.ipynb\" target=\"_parent\"><img src=\"https://colab.research.google.com/assets/colab-badge.svg\" alt=\"Open In Colab\"/></a>"
      ]
    },
    {
      "cell_type": "code",
      "execution_count": 12,
      "metadata": {
        "colab": {
          "base_uri": "https://localhost:8080/"
        },
        "id": "dnkjnvyx6lri",
        "outputId": "f5ac80cb-af00-4a76-e503-b850a1e3c2b1"
      },
      "outputs": [
        {
          "output_type": "stream",
          "name": "stdout",
          "text": [
            "\n",
            "Q2:\n",
            " [[ 2  3  4]\n",
            " [ 5  6  7]\n",
            " [ 8  9 10]]\n"
          ]
        }
      ],
      "source": [
        "# 2. Create a 3×3 matrix with values ranging from 2 to 10\n",
        "arr2 = np.arange(2, 11).reshape(3, 3)\n",
        "print(\"\\nQ2:\\n\", arr2)\n"
      ]
    },
    {
      "cell_type": "code",
      "source": [
        "# 3. Find the maximum, minimum, and mean of a NumPy array\n",
        "arr3 = np.array([12, 45, 7, 23, 89, 34])\n",
        "print(\"\\nQ3: Max:\", arr3.max(), \" Min:\", arr3.min(), \" Mean:\", arr3.mean())\n"
      ],
      "metadata": {
        "colab": {
          "base_uri": "https://localhost:8080/"
        },
        "id": "3XgSqvLp62tI",
        "outputId": "2b8765ac-9815-4263-efe0-de3468058cf8"
      },
      "execution_count": 13,
      "outputs": [
        {
          "output_type": "stream",
          "name": "stdout",
          "text": [
            "\n",
            "Q3: Max: 89  Min: 7  Mean: 35.0\n"
          ]
        }
      ]
    },
    {
      "cell_type": "code",
      "source": [
        "# 4. Create an array of 10 zeros and 10 ones\n",
        "arr4 = np.concatenate([np.zeros(10), np.ones(10)])\n",
        "print(\"\\nQ4:\", arr4)\n"
      ],
      "metadata": {
        "id": "HbBW2UaE62pk",
        "colab": {
          "base_uri": "https://localhost:8080/"
        },
        "outputId": "c2f712ea-a804-4740-f600-9b6531dd510f"
      },
      "execution_count": 14,
      "outputs": [
        {
          "output_type": "stream",
          "name": "stdout",
          "text": [
            "\n",
            "Q4: [0. 0. 0. 0. 0. 0. 0. 0. 0. 0. 1. 1. 1. 1. 1. 1. 1. 1. 1. 1.]\n"
          ]
        }
      ]
    },
    {
      "cell_type": "code",
      "source": [
        "import numpy as np\n",
        "\n",
        "# 1. Create a NumPy array of numbers from 1 to 20\n",
        "arr1 = np.arange(1, 21)\n",
        "print(\"Q1:\", arr1)\n"
      ],
      "metadata": {
        "id": "hIrb5X8K62nY",
        "colab": {
          "base_uri": "https://localhost:8080/"
        },
        "outputId": "3ffd00a0-2364-495d-bc32-72ba0874cbd8"
      },
      "execution_count": 11,
      "outputs": [
        {
          "output_type": "stream",
          "name": "stdout",
          "text": [
            "Q1: [ 1  2  3  4  5  6  7  8  9 10 11 12 13 14 15 16 17 18 19 20]\n"
          ]
        }
      ]
    },
    {
      "cell_type": "code",
      "source": [
        "# 5. Generate an array of 100 random numbers between 0 and 1\n",
        "arr5 = np.random.rand(100)\n",
        "print(\"\\nQ5:\", arr5[:10], \"... (first 10 shown)\")"
      ],
      "metadata": {
        "id": "jTdEpsJe62kC",
        "colab": {
          "base_uri": "https://localhost:8080/"
        },
        "outputId": "edc9df15-7c67-4385-bac1-6f4bb53b2923"
      },
      "execution_count": 15,
      "outputs": [
        {
          "output_type": "stream",
          "name": "stdout",
          "text": [
            "\n",
            "Q5: [0.35163116 0.43401273 0.68437207 0.22787154 0.41192175 0.90824407\n",
            " 0.57661241 0.49851952 0.26441642 0.68786896] ... (first 10 shown)\n"
          ]
        }
      ]
    },
    {
      "cell_type": "code",
      "source": [
        "# 6. Reshape a 1D array of 12 elements into a 3×4 matrix\n",
        "arr6 = np.arange(1, 13).reshape(3, 4)\n",
        "print(\"\\nQ6:\\n\", arr6)"
      ],
      "metadata": {
        "id": "Eo-bQrhG62ha",
        "colab": {
          "base_uri": "https://localhost:8080/"
        },
        "outputId": "2220be1d-f74d-4315-d5cb-15525a18c407"
      },
      "execution_count": 16,
      "outputs": [
        {
          "output_type": "stream",
          "name": "stdout",
          "text": [
            "\n",
            "Q6:\n",
            " [[ 1  2  3  4]\n",
            " [ 5  6  7  8]\n",
            " [ 9 10 11 12]]\n"
          ]
        }
      ]
    },
    {
      "cell_type": "code",
      "source": [
        "# 7. Extract all odd numbers from a NumPy array\n",
        "arr7 = np.arange(1, 21)\n",
        "odds = arr7[arr7 % 2 != 0]\n",
        "print(\"\\nQ7:\", odds)"
      ],
      "metadata": {
        "id": "z9_DG31u62dd",
        "colab": {
          "base_uri": "https://localhost:8080/"
        },
        "outputId": "007653e0-0576-47c0-e14d-db01208c3377"
      },
      "execution_count": 17,
      "outputs": [
        {
          "output_type": "stream",
          "name": "stdout",
          "text": [
            "\n",
            "Q7: [ 1  3  5  7  9 11 13 15 17 19]\n"
          ]
        }
      ]
    },
    {
      "cell_type": "code",
      "source": [
        "# 8. Replace all negative values in an array with 0\n",
        "arr8 = np.array([2, -4, 6, -9, 12, -1])\n",
        "arr8[arr8 < 0] = 0\n",
        "print(\"\\nQ8:\", arr8)"
      ],
      "metadata": {
        "id": "QKUW-CTq62bk",
        "colab": {
          "base_uri": "https://localhost:8080/"
        },
        "outputId": "2e234d11-0695-4d39-9cee-e9146a56dd9b"
      },
      "execution_count": 18,
      "outputs": [
        {
          "output_type": "stream",
          "name": "stdout",
          "text": [
            "\n",
            "Q8: [ 2  0  6  0 12  0]\n"
          ]
        }
      ]
    },
    {
      "cell_type": "code",
      "source": [
        "# 9. Multiply two NumPy arrays element-wise\n",
        "a = np.array([1, 2, 3])\n",
        "b = np.array([4, 5, 6])\n",
        "print(\"\\nQ9:\", a * b)"
      ],
      "metadata": {
        "id": "7ZEadaO662Zh",
        "colab": {
          "base_uri": "https://localhost:8080/"
        },
        "outputId": "893fdccb-518e-4cbe-a3f6-d5c6e326e243"
      },
      "execution_count": 19,
      "outputs": [
        {
          "output_type": "stream",
          "name": "stdout",
          "text": [
            "\n",
            "Q9: [ 4 10 18]\n"
          ]
        }
      ]
    },
    {
      "cell_type": "code",
      "source": [
        "# 10. Find the index of the maximum element in an array\n",
        "arr10 = np.array([10, 55, 32, 89, 40])\n",
        "print(\"\\nQ10: Index of max element =\", arr10.argmax(), \" Value =\", arr10.max())"
      ],
      "metadata": {
        "id": "tXum1q0V62XE",
        "colab": {
          "base_uri": "https://localhost:8080/"
        },
        "outputId": "bf79f005-95d7-44c7-e7b2-d9a19dc639a6"
      },
      "execution_count": 20,
      "outputs": [
        {
          "output_type": "stream",
          "name": "stdout",
          "text": [
            "\n",
            "Q10: Index of max element = 3  Value = 89\n"
          ]
        }
      ]
    },
    {
      "cell_type": "code",
      "source": [],
      "metadata": {
        "id": "M6el2L3r62Uy"
      },
      "execution_count": null,
      "outputs": []
    }
  ]
}