{
  "nbformat": 4,
  "nbformat_minor": 0,
  "metadata": {
    "colab": {
      "provenance": [],
      "authorship_tag": "ABX9TyNyc7xEEhk5Hftk5EYv+mEX",
      "include_colab_link": true
    },
    "kernelspec": {
      "name": "python3",
      "display_name": "Python 3"
    },
    "language_info": {
      "name": "python"
    }
  },
  "cells": [
    {
      "cell_type": "markdown",
      "metadata": {
        "id": "view-in-github",
        "colab_type": "text"
      },
      "source": [
        "<a href=\"https://colab.research.google.com/github/poolaNaveen/Data-Engineering/blob/main/Strings.ipynb\" target=\"_parent\"><img src=\"https://colab.research.google.com/assets/colab-badge.svg\" alt=\"Open In Colab\"/></a>"
      ]
    },
    {
      "cell_type": "code",
      "execution_count": null,
      "metadata": {
        "colab": {
          "base_uri": "https://localhost:8080/"
        },
        "id": "k05rQFjRbUQW",
        "outputId": "39e01038-d884-44f9-9cf7-1b2d7e47ce6a"
      },
      "outputs": [
        {
          "output_type": "stream",
          "name": "stdout",
          "text": [
            "gnimmargorp_nohtyp\n"
          ]
        }
      ],
      "source": [
        "#Reverse a string\n",
        "x = \"python_programming\"\n",
        "print(x[::-1])"
      ]
    },
    {
      "cell_type": "code",
      "source": [
        "x = \"python\"\n",
        "print(x[::-1])"
      ],
      "metadata": {
        "colab": {
          "base_uri": "https://localhost:8080/"
        },
        "id": "ktMA82W7bhLi",
        "outputId": "fff07e22-ebdd-48d5-d48c-3f71692d2908"
      },
      "execution_count": null,
      "outputs": [
        {
          "output_type": "stream",
          "name": "stdout",
          "text": [
            "nohtyp\n"
          ]
        }
      ]
    },
    {
      "cell_type": "code",
      "source": [
        "#count the number of words\n",
        "x = \"python is a programming language\"\n",
        "print(len(x.split()))"
      ],
      "metadata": {
        "colab": {
          "base_uri": "https://localhost:8080/"
        },
        "id": "p_KFsbiBbhPH",
        "outputId": "42f5b62b-a414-447f-c93e-a6e3f0b9c3b2"
      },
      "execution_count": null,
      "outputs": [
        {
          "output_type": "stream",
          "name": "stdout",
          "text": [
            "5\n"
          ]
        }
      ]
    },
    {
      "cell_type": "code",
      "source": [
        "X = \"hello world\"\n",
        "print(X,end=\" \")"
      ],
      "metadata": {
        "colab": {
          "base_uri": "https://localhost:8080/"
        },
        "id": "B3SJxPBzbhU7",
        "outputId": "882fe314-7d7f-4ea9-a244-32f0870db76c"
      },
      "execution_count": null,
      "outputs": [
        {
          "output_type": "stream",
          "name": "stdout",
          "text": [
            "hello world "
          ]
        }
      ]
    },
    {
      "cell_type": "code",
      "source": [
        "#length of string\n",
        "x = \"hello world\"\n",
        "print(len(x))"
      ],
      "metadata": {
        "colab": {
          "base_uri": "https://localhost:8080/"
        },
        "id": "pTgac-JebhYV",
        "outputId": "5de8933e-aab8-459f-d67f-eef8149dd4e1"
      },
      "execution_count": null,
      "outputs": [
        {
          "output_type": "stream",
          "name": "stdout",
          "text": [
            "11\n"
          ]
        }
      ]
    },
    {
      "cell_type": "code",
      "source": [
        "#Replace\n",
        "x = \"hello world\"\n",
        "print(x.replace(\"world\",\"python\"))"
      ],
      "metadata": {
        "colab": {
          "base_uri": "https://localhost:8080/"
        },
        "id": "IjF0_ZC-d6DE",
        "outputId": "e73eac4c-b042-461a-8fca-90c69e319ca2"
      },
      "execution_count": null,
      "outputs": [
        {
          "output_type": "stream",
          "name": "stdout",
          "text": [
            "hello python\n"
          ]
        }
      ]
    },
    {
      "cell_type": "code",
      "source": [
        "#Check if 'python' is in 'Python Programming Language'\n",
        "x = \"python is programming language\"\n",
        "if \"python\" in x:\n",
        "  print('yes')\n",
        "else:\n",
        "  print('no')"
      ],
      "metadata": {
        "colab": {
          "base_uri": "https://localhost:8080/"
        },
        "id": "aZ2w13ijd6BJ",
        "outputId": "f217e920-b810-461e-9300-9e2d85aaf08c"
      },
      "execution_count": null,
      "outputs": [
        {
          "output_type": "stream",
          "name": "stdout",
          "text": [
            "yes\n"
          ]
        }
      ]
    },
    {
      "cell_type": "code",
      "source": [
        "#extract first 5 letters\n",
        "x = \"data_engineering\"\n",
        "print(x[0:6])"
      ],
      "metadata": {
        "colab": {
          "base_uri": "https://localhost:8080/"
        },
        "id": "-TC_ZrwGd5_P",
        "outputId": "edb78a01-4953-4b5d-c1cb-3d0d14341cab"
      },
      "execution_count": null,
      "outputs": [
        {
          "output_type": "stream",
          "name": "stdout",
          "text": [
            "data_e\n"
          ]
        }
      ]
    },
    {
      "cell_type": "code",
      "source": [
        "#upper to lower\n",
        "x = \"python\"\n",
        "print(x.upper())"
      ],
      "metadata": {
        "colab": {
          "base_uri": "https://localhost:8080/"
        },
        "id": "xAV36eZfd59b",
        "outputId": "835345b4-ea9f-4c63-8fd6-96327cb1d261"
      },
      "execution_count": null,
      "outputs": [
        {
          "output_type": "stream",
          "name": "stdout",
          "text": [
            "PYTHON\n"
          ]
        }
      ]
    },
    {
      "cell_type": "code",
      "source": [
        "#Remove all vowels\n",
        "x = \"python programming\"\n",
        "if x in \"aeiou\":\n",
        "  print('yes')\n",
        "  print(x.replace(\"aeiou\",\"\"))\n",
        "else:\n",
        "  print('no')"
      ],
      "metadata": {
        "colab": {
          "base_uri": "https://localhost:8080/"
        },
        "id": "HcaDdGpJd55l",
        "outputId": "9086a42f-7080-4691-99c8-7abc34860d24"
      },
      "execution_count": null,
      "outputs": [
        {
          "output_type": "stream",
          "name": "stdout",
          "text": [
            "no\n"
          ]
        }
      ]
    },
    {
      "cell_type": "code",
      "source": [
        "#most frequent charecter\n",
        "m=\"mississippi\"\n",
        "f={}\n",
        "for i in m:\n",
        "    if i in f:\n",
        "        f[i]+=1\n",
        "    else:\n",
        "        f[i]=1\n",
        "h=max(f.keys())\n",
        "print(h)"
      ],
      "metadata": {
        "colab": {
          "base_uri": "https://localhost:8080/"
        },
        "id": "uZlNy_i8d53g",
        "outputId": "07717e32-a7bc-48c6-a517-793fa7e44e53"
      },
      "execution_count": null,
      "outputs": [
        {
          "output_type": "stream",
          "name": "stdout",
          "text": [
            "s\n"
          ]
        }
      ]
    },
    {
      "cell_type": "code",
      "source": [
        "#Anagram\n",
        "x = \"listen\"\n",
        "y = \"silent\"\n",
        "if sorted(x)==sorted(y):\n",
        "  print('yes anagram')\n",
        "else:\n",
        "  print('not anagram')"
      ],
      "metadata": {
        "colab": {
          "base_uri": "https://localhost:8080/"
        },
        "id": "ZecPnwNAhT9Q",
        "outputId": "f3f9db64-0d49-4c63-9ee4-6b2261f756ee"
      },
      "execution_count": null,
      "outputs": [
        {
          "output_type": "stream",
          "name": "stdout",
          "text": [
            "yes anagram\n"
          ]
        }
      ]
    },
    {
      "cell_type": "code",
      "source": [
        "x = \"listen\"\n",
        "y = \"stop\"\n",
        "if sorted(x)==sorted(y):\n",
        "  print(\"yes\")\n",
        "else:\n",
        "  print(\"no\")"
      ],
      "metadata": {
        "colab": {
          "base_uri": "https://localhost:8080/"
        },
        "id": "GrE1FAyUhT51",
        "outputId": "7cb92ab3-c80a-4145-a903-368720dbd522"
      },
      "execution_count": null,
      "outputs": [
        {
          "output_type": "stream",
          "name": "stdout",
          "text": [
            "no\n"
          ]
        }
      ]
    },
    {
      "cell_type": "code",
      "source": [
        "#capitalize first letter in each worython\n",
        "x = 'python programming'\n",
        "print(x.title())"
      ],
      "metadata": {
        "colab": {
          "base_uri": "https://localhost:8080/"
        },
        "id": "9T1slXX1hT31",
        "outputId": "ba6d3071-84b5-449a-f799-def9e6ee2f8b"
      },
      "execution_count": null,
      "outputs": [
        {
          "output_type": "stream",
          "name": "stdout",
          "text": [
            "Python Programming\n"
          ]
        }
      ]
    },
    {
      "cell_type": "code",
      "source": [
        "#count consonents\n",
        "x = \"hello world\"\n",
        "if x in \"aeiou\":\n",
        "  print('yes')\n",
        "else:\n",
        "  print('no')"
      ],
      "metadata": {
        "id": "7K7Qkj-hhT1n",
        "colab": {
          "base_uri": "https://localhost:8080/"
        },
        "outputId": "2ca22a0b-373b-499a-a771-eca227c8c3d6"
      },
      "execution_count": 28,
      "outputs": [
        {
          "output_type": "stream",
          "name": "stdout",
          "text": [
            "no\n"
          ]
        }
      ]
    },
    {
      "cell_type": "code",
      "source": [
        "#longest word in string\n",
        "x = \"hello python programming\"\n",
        "print(max(x.split(),key=len))"
      ],
      "metadata": {
        "id": "bnrx25HqhTzB",
        "colab": {
          "base_uri": "https://localhost:8080/"
        },
        "outputId": "99f65cf1-00c6-4543-948d-838872188f1c"
      },
      "execution_count": 37,
      "outputs": [
        {
          "output_type": "stream",
          "name": "stdout",
          "text": [
            "programming\n"
          ]
        }
      ]
    },
    {
      "cell_type": "code",
      "source": [
        "x = \"hello python programming\"\n",
        "print(min(x.split(),key=len))"
      ],
      "metadata": {
        "id": "0BLeAA0FhTw6",
        "colab": {
          "base_uri": "https://localhost:8080/"
        },
        "outputId": "7ac4f333-354b-4fc0-a0b2-ab44aee035a8"
      },
      "execution_count": 38,
      "outputs": [
        {
          "output_type": "stream",
          "name": "stdout",
          "text": [
            "hello\n"
          ]
        }
      ]
    },
    {
      "cell_type": "code",
      "source": [
        "#remove all punctuations\n",
        "import string\n",
        "s=\"Hello, World! How are you?\"\n",
        "r=s.split()\n",
        "T = [w.strip(string.punctuation) for w in r if w.strip(string.punctuation).isalnum()]\n",
        "a=\" \".join(T)\n",
        "print(a)\n"
      ],
      "metadata": {
        "id": "pPkLFDbPhTuZ",
        "colab": {
          "base_uri": "https://localhost:8080/"
        },
        "outputId": "e9efd47f-2882-4c0c-91c1-96d76eac47a0"
      },
      "execution_count": 39,
      "outputs": [
        {
          "output_type": "stream",
          "name": "stdout",
          "text": [
            "Hello World How are you\n"
          ]
        }
      ]
    },
    {
      "cell_type": "code",
      "source": [
        "#Check if string start with python\n",
        "x = 'python'\n",
        "if x in 'python':\n",
        "  print('yes')\n",
        "else:\n",
        "  print('no')\n"
      ],
      "metadata": {
        "id": "VgU41nnfhTsO",
        "colab": {
          "base_uri": "https://localhost:8080/"
        },
        "outputId": "ff413072-551b-4161-9f12-9b9578eab49d"
      },
      "execution_count": 43,
      "outputs": [
        {
          "output_type": "stream",
          "name": "stdout",
          "text": [
            "yes\n"
          ]
        }
      ]
    },
    {
      "cell_type": "code",
      "source": [
        "#split\n",
        "l=\"apple,banana,orange\"\n",
        "l.split(',')"
      ],
      "metadata": {
        "id": "MjE7Cd3yhTpz",
        "colab": {
          "base_uri": "https://localhost:8080/"
        },
        "outputId": "c374b6af-b0c9-4eea-cbdd-dab25ff9cbf2"
      },
      "execution_count": 44,
      "outputs": [
        {
          "output_type": "execute_result",
          "data": {
            "text/plain": [
              "['apple', 'banana', 'orange']"
            ]
          },
          "metadata": {},
          "execution_count": 44
        }
      ]
    },
    {
      "cell_type": "code",
      "source": [
        "#join the list\n",
        "x = ['data']\n",
        "y = ['enginner']\n",
        "print([x+y])"
      ],
      "metadata": {
        "colab": {
          "base_uri": "https://localhost:8080/"
        },
        "id": "cPoO16ASoFkt",
        "outputId": "5bb1e180-edb1-46dd-e926-ceeebe0c5fb1"
      },
      "execution_count": 50,
      "outputs": [
        {
          "output_type": "stream",
          "name": "stdout",
          "text": [
            "[['data', 'enginner']]\n"
          ]
        }
      ]
    },
    {
      "cell_type": "code",
      "source": [
        "#Find the index of first occurrence of 'o' in 'Hello World\n",
        "x = 'hello world'\n",
        "print(x.index('o'))"
      ],
      "metadata": {
        "colab": {
          "base_uri": "https://localhost:8080/"
        },
        "id": "1OMjPeQtoFhi",
        "outputId": "7211bfc7-78e1-46ff-f68d-85749f0abc5e"
      },
      "execution_count": 55,
      "outputs": [
        {
          "output_type": "stream",
          "name": "stdout",
          "text": [
            "4\n"
          ]
        }
      ]
    },
    {
      "cell_type": "code",
      "source": [],
      "metadata": {
        "id": "w86msUq1oFfv"
      },
      "execution_count": null,
      "outputs": []
    },
    {
      "cell_type": "code",
      "source": [],
      "metadata": {
        "id": "9aShtw63oFdW"
      },
      "execution_count": null,
      "outputs": []
    },
    {
      "cell_type": "code",
      "source": [],
      "metadata": {
        "id": "brLt7evdoFbP"
      },
      "execution_count": null,
      "outputs": []
    },
    {
      "cell_type": "code",
      "source": [],
      "metadata": {
        "id": "lqULGpKcoFZB"
      },
      "execution_count": null,
      "outputs": []
    },
    {
      "cell_type": "code",
      "source": [],
      "metadata": {
        "id": "PZDKHxW0oFWs"
      },
      "execution_count": null,
      "outputs": []
    }
  ]
}